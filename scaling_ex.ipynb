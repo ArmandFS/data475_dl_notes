{
 "cells": [
  {
   "cell_type": "code",
   "execution_count": 1,
   "id": "17d4b3e9",
   "metadata": {},
   "outputs": [],
   "source": [
    "#scaling example in python using sklearn\n",
    "from sklearn.preprocessing import MinMaxScaler\n",
    "import numpy as np"
   ]
  },
  {
   "cell_type": "code",
   "execution_count": 2,
   "id": "81933ea4",
   "metadata": {},
   "outputs": [],
   "source": [
    "#example data\n",
    "data = np.array(([2], [4], [6], [8], [10]))"
   ]
  },
  {
   "cell_type": "code",
   "execution_count": 3,
   "id": "412d9dc2",
   "metadata": {},
   "outputs": [],
   "source": [
    "#initialize scalar to scale between [0, 1]\n",
    "scaler = MinMaxScaler()"
   ]
  },
  {
   "cell_type": "code",
   "execution_count": 5,
   "id": "a3e28234",
   "metadata": {},
   "outputs": [
    {
     "data": {
      "text/plain": [
       "array([[0.  ],\n",
       "       [0.25],\n",
       "       [0.5 ],\n",
       "       [0.75],\n",
       "       [1.  ]])"
      ]
     },
     "execution_count": 5,
     "metadata": {},
     "output_type": "execute_result"
    }
   ],
   "source": [
    "scaled_data =scaler.fit_transform(data)\n",
    "scaled_data"
   ]
  },
  {
   "cell_type": "code",
   "execution_count": 7,
   "id": "ceb3b44f",
   "metadata": {},
   "outputs": [
    {
     "data": {
      "text/plain": [
       "array([[-1. ],\n",
       "       [-0.5],\n",
       "       [ 0. ],\n",
       "       [ 0.5],\n",
       "       [ 1. ]])"
      ]
     },
     "execution_count": 7,
     "metadata": {},
     "output_type": "execute_result"
    }
   ],
   "source": [
    "#apply custom ranges\n",
    "scaler_2 = MinMaxScaler(feature_range=(-1, 1))\n",
    "scaled_data_2 = scaler_2.fit_transform(data)\n",
    "scaled_data_2"
   ]
  }
 ],
 "metadata": {
  "kernelspec": {
   "display_name": "Python 3",
   "language": "python",
   "name": "python3"
  },
  "language_info": {
   "codemirror_mode": {
    "name": "ipython",
    "version": 3
   },
   "file_extension": ".py",
   "mimetype": "text/x-python",
   "name": "python",
   "nbconvert_exporter": "python",
   "pygments_lexer": "ipython3",
   "version": "3.11.3"
  }
 },
 "nbformat": 4,
 "nbformat_minor": 5
}
