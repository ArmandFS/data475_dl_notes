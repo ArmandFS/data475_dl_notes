{
 "cells": [
  {
   "cell_type": "markdown",
   "id": "967c9029",
   "metadata": {},
   "source": [
    "### Shannon Entropy Example - Theory to Python\n",
    "This is code from Yacine Mahdid's \"Shannon Entropy from Theory to Python\" tutorial. I have decided to do it myself and see if I can run it on my machine."
   ]
  },
  {
   "cell_type": "code",
   "execution_count": 2,
   "id": "8c40cd30",
   "metadata": {},
   "outputs": [],
   "source": [
    "import numpy as np\n",
    "import pandas as pd\n",
    "import matplotlib.pyplot as plt"
   ]
  },
  {
   "cell_type": "markdown",
   "id": "be5de6a3",
   "metadata": {},
   "source": []
  },
  {
   "cell_type": "code",
   "execution_count": null,
   "id": "db7d693d",
   "metadata": {},
   "outputs": [],
   "source": [
    "#import data from the DNA sequence dataset.\n",
    "#here we are measuring the Kolmogorov Complexity \n"
   ]
  }
 ],
 "metadata": {
  "kernelspec": {
   "display_name": "Python 3",
   "language": "python",
   "name": "python3"
  },
  "language_info": {
   "codemirror_mode": {
    "name": "ipython",
    "version": 3
   },
   "file_extension": ".py",
   "mimetype": "text/x-python",
   "name": "python",
   "nbconvert_exporter": "python",
   "pygments_lexer": "ipython3",
   "version": "3.11.3"
  }
 },
 "nbformat": 4,
 "nbformat_minor": 5
}
